{
 "cells": [
  {
   "cell_type": "code",
   "execution_count": null,
   "metadata": {},
   "outputs": [],
   "source": [
    "import tensorflow as tf\n",
    "import numpy as np\n",
    "\n",
    "def tt_cnn(inp, inp_modes, out_modes, filter_modes, mat_ranks,strides=1, init=2.0, scope=\"tt_cnn\", use_biases=True, init_params=None):\n",
    "    \"\"\" tt-layer ('old' tt-linear layer, tt-matrix by full tensor product)\n",
    "    Args:\n",
    "        inp: input tensor, float - [batch_size, prod(inp_modes)]\n",
    "        inp_modes: input tensor modes\n",
    "        out_modes: output tensor modes\n",
    "        mat_ranks: tt-matrix ranks\n",
    "        init: lambda function (shape) used for weights initialization\n",
    "        scope: layer scope name, string\n",
    "        use_biases: biases using flag, bool\n",
    "    Returns:\n",
    "        out: output tensor, float - [batch_size, prod(out_modes)]\n",
    "    \"\"\"\n",
    "    with tf.name_scope(scope):\n",
    "        dim = inp_modes.size\n",
    "        mat_ps = np.cumsum(np.concatenate(([0], mat_ranks[:-1] * filter_modes * mat_ranks[1:])))\n",
    "\n",
    "        mat_size = mat_ps[-1]\n",
    "        if type(init) == float:\n",
    "            for i in range(dim):\n",
    "                n_in = mat_ranks[i] * inp_modes[i]\n",
    "                mat_core = tf.truncated_normal([mat_ps[i + 1] - mat_ps[i]],\n",
    "                                               0.0,\n",
    "                                               init / n_in,\n",
    "                                               tf.float32)\n",
    "                if (i == 0):\n",
    "                    mat = mat_core\n",
    "                else:\n",
    "                    mat = tf.concat(0, [mat, mat_core])\n",
    "        else:\n",
    "            init_params['inp_modes'] = inp_modes\n",
    "            init_params['out_modes'] = out_modes\n",
    "            init_params['ranks'] = mat_ranks\n",
    "            mat = init(init_params)\n",
    "        mat = tf.Variable(mat, name=\"weights\")\n",
    "\n",
    "        input_sz = np.prod(inp_modes)\n",
    "        output_sz = np.prod(out_modes)\n",
    "        \n",
    "        W = 1.0 # filter_height, filter_width, in_channels, out_channels\n",
    "        for i in range(dim):\n",
    "            mat_core = tf.slice(mat, [mat_ps[i]], [mat_ps[i + 1] - mat_ps[i]])\n",
    "            mat_core = tf.reshape(mat_core, [mat_ranks[i], filter_modes[i]*mat_ranks[i + 1]])\n",
    "            W = tf.mul(W, mat_core)\n",
    "            W = tf.reshape(W, [mat_ranks[i+1], -1])\n",
    "            W = tf.transpose(W, [1, 0])\n",
    "        # Change FC to Conv operatoin\n",
    "        out = tf.nn.conv2d(inp, W, strides=[1, strides, strides, 1], padding='SAME')   \n",
    "        if use_biases:\n",
    "            biases = tf.Variable(tf.zeros([np.prod(out_modes)]), name=\"biases\")\n",
    "            out = tf.add(tf.reshape(out, [-1, np.prod(out_modes)]), biases, name=\"out\")\n",
    "        else:\n",
    "            out = tf.reshape(out, [-1, np.prod(out_modes)], name=\"out\")\n",
    "    return out"
   ]
  }
 ],
 "metadata": {
  "kernelspec": {
   "display_name": "Python 2",
   "language": "python",
   "name": "python2"
  },
  "language_info": {
   "codemirror_mode": {
    "name": "ipython",
    "version": 2
   },
   "file_extension": ".py",
   "mimetype": "text/x-python",
   "name": "python",
   "nbconvert_exporter": "python",
   "pygments_lexer": "ipython2"
  }
 },
 "nbformat": 4,
 "nbformat_minor": 0
}
