{
 "cells": [
  {
   "cell_type": "code",
   "execution_count": null,
   "metadata": {},
   "outputs": [],
   "source": [
    "def mf_rnn(inputs, inp_modes, out_modes, mat_ranks, scope):\n",
    "    inp_dim = np.prod(inp_modes)\n",
    "    out_dim = np.prod(out_modes)\n",
    "    with vs.variable_scope(scope+\"TensorTrain\"):\n",
    "        U = vs.get_variable(\"U\", [inp_dim, mat_ranks])\n",
    "        V = vs.get_variable(\"V\", [mat_ranks, out_dim])\n",
    "        weights = tf.matmul(U, V)\n",
    "        out =  math_ops.matmul(inputs, weights)\n",
    "    return out"
   ]
  }
 ],
 "metadata": {
  "kernelspec": {
   "display_name": "Python 2",
   "language": "python",
   "name": "python2"
  },
  "language_info": {
   "codemirror_mode": {
    "name": "ipython",
    "version": 2
   },
   "file_extension": ".py",
   "mimetype": "text/x-python",
   "name": "python",
   "nbconvert_exporter": "python",
   "pygments_lexer": "ipython2"
  }
 },
 "nbformat": 4,
 "nbformat_minor": 0
}
