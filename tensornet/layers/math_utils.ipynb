{
 "cells": [
  {
   "cell_type": "code",
   "execution_count": null,
   "metadata": {},
   "outputs": [],
   "source": [
    "import tensorflow as tf\n",
    "import numpy as np\n",
    "def n_mode_product(T_a, M_u, n, T_a_shape, M_u_shape):\n",
    "    '''\n",
    "    Perform tensor matrix n-model-product \n",
    "    http://www.mathworks.com/matlabcentral/fileexchange/24268-n-mode-tensor-matrix-product/content/nmodeproduct.m\n",
    "    Args:\n",
    "        T_a: N-mode tensor \n",
    "        M_u: matrix \n",
    "    Return:\n",
    "        T_b: N-mode product\n",
    "    '''          \n",
    "    num_dim = T_a_shape.size\n",
    "    perm_order = np.roll(np.arange(num_dim),n)\n",
    "    M_a = tf.reshape(tf.transpose(T_a, perm=perm_order), [T_a_shape[n],-1])\n",
    "    \n",
    "    T_b_shape = T_a_shape\n",
    "    T_b_shape[n] = M_u_shape[0]\n",
    "    M_b = tf.matmul(M_u, M_a)\n",
    "    perm_order = np.roll(np.arange(num_dim),-n)\n",
    "    T_b = tf.transpose(tf.reshape(M_b, T_b_shape ), perm=perm_order)\n",
    "    return T_b\n",
    "    "
   ]
  },
  {
   "cell_type": "code",
   "execution_count": null,
   "metadata": {},
   "outputs": [],
   "source": [
    "# unit test of n_mode_product\n",
    "def test_n_mode_product():\n",
    "    '''\n",
    "    Unit test of n_mode_product\n",
    "    '''\n",
    "    input_sz = np.array([4,5,6])\n",
    "    rank_sz = np.array([2,2,2])\n",
    "    num_dim = (input_sz).ndim\n",
    "    \n",
    "    tucker_core = tf.random_normal(rank_sz)\n",
    "\n",
    "    i = 2\n",
    "    proj_mat= tf.random_normal([input_sz[i],rank_sz[i]])\n",
    "    out = n_mode_product(tucker_core, proj_mat, i, rank_sz, np.array([input_sz[i],rank_sz[i]]))\n",
    "    # start a computation graph\n",
    "    init = tf.initialize_all_variables()\n",
    "\n",
    "    # Launch the graph.\n",
    "    sess = tf.Session()\n",
    "    sess.run(init)\n",
    "    with tf.Session():\n",
    "        print out.eval()\n",
    "        print \n",
    "    \n",
    "if __name__=='__main__':\n",
    "    test_n_mode_product()"
   ]
  }
 ],
 "metadata": {
  "kernelspec": {
   "display_name": "Python 2",
   "language": "python",
   "name": "python2"
  },
  "language_info": {
   "codemirror_mode": {
    "name": "ipython",
    "version": 2
   },
   "file_extension": ".py",
   "mimetype": "text/x-python",
   "name": "python",
   "nbconvert_exporter": "python",
   "pygments_lexer": "ipython2"
  }
 },
 "nbformat": 4,
 "nbformat_minor": 0
}
